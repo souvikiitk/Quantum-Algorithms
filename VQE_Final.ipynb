{
 "cells": [
  {
   "cell_type": "markdown",
   "id": "1cd3457c-a199-435c-9b3c-aeeceb66909f",
   "metadata": {},
   "source": [
    "# Initialize your account"
   ]
  },
  {
   "cell_type": "code",
   "execution_count": null,
   "id": "3c92c94c-0ad9-4b41-8b2e-54545ceb632c",
   "metadata": {},
   "outputs": [],
   "source": [
    "from qiskit_ibm_runtime import QiskitRuntimeService\n",
    "API = \"6414ab61cb1a21db7fa9b89369a38489cb597ac7c6fc85e04046964fcff9fae57c6e1ca104fe2d0f41ef9bed371f6eff1c31e01e6fd5ebeb2a412c2bb0916a65\"\n",
    "service = QiskitRuntimeService(channel = \"ibm_quantum\" ,token=API)\n",
    "\n",
    "service.backends()"
   ]
  },
  {
   "cell_type": "code",
   "execution_count": null,
   "id": "1948bc83-df39-42b4-8f2f-e3f9007dd919",
   "metadata": {},
   "outputs": [],
   "source": [
    "service.backends(simulator=False, operational=True, min_num_qubits=5)"
   ]
  },
  {
   "cell_type": "code",
   "execution_count": null,
   "id": "05ecbd01-0e10-4961-b44d-bc360ce422a7",
   "metadata": {},
   "outputs": [],
   "source": [
    "backend = service.least_busy(operational=True, min_num_qubits=5)"
   ]
  },
  {
   "cell_type": "code",
   "execution_count": null,
   "id": "69573581-225f-45a8-a9b1-3f220cf5a4f7",
   "metadata": {},
   "outputs": [],
   "source": [
    "# backend = service.backend(\"ibm_kyoto\")\n",
    " \n",
    "print(\n",
    "    f\"Name: {backend.name}\\n\"\n",
    "    f\"Version: {backend.version}\\n\"\n",
    "    f\"No. of qubits: {backend.num_qubits}\\n\"\n",
    ")"
   ]
  },
  {
   "cell_type": "markdown",
   "id": "87513ba8-cdbe-44ed-9016-bd8c0847507d",
   "metadata": {},
   "source": [
    "# VQE Starts Here"
   ]
  },
  {
   "cell_type": "markdown",
   "id": "45456088-2e2b-4f3e-8587-2fa5a06e81cc",
   "metadata": {},
   "source": [
    "## Setup your Hamiltonian"
   ]
  },
  {
   "cell_type": "code",
   "execution_count": null,
   "id": "0ed52ec4-666e-4c05-b045-e9e1405627d0",
   "metadata": {},
   "outputs": [],
   "source": [
    "# padding_str = (backend.configuration().n_qubits-2) * 'I'\n",
    "# len(padding_str)"
   ]
  },
  {
   "cell_type": "code",
   "execution_count": null,
   "id": "3a00a3d7-285f-4ea7-9121-4aea1db1c6ae",
   "metadata": {},
   "outputs": [],
   "source": [
    "from qiskit.quantum_info import SparsePauliOp\n",
    "\n",
    "H2_op = SparsePauliOp.from_list(\n",
    "    [\n",
    "        (\"II\", -1.052373245772859),\n",
    "        (\"IZ\", 0.39793742484318045),\n",
    "        (\"ZI\", -0.39793742484318045),\n",
    "        (\"ZZ\", -0.01128010425623538),\n",
    "        (\"XX\", 0.18093119978423156),\n",
    "    ]\n",
    ")"
   ]
  },
  {
   "cell_type": "code",
   "execution_count": null,
   "id": "4f2b2d68-00b6-4184-9ab0-63e5e74703dc",
   "metadata": {},
   "outputs": [],
   "source": [
    "from qiskit.quantum_info import SparsePauliOp\n",
    "\n",
    "H2_op = SparsePauliOp.from_list(\n",
    "    [\n",
    "        (\"II\"+padding_str, -1.052373245772859),\n",
    "        (\"IZ\"+padding_str, 0.39793742484318045),\n",
    "        (\"ZI\"+padding_str, -0.39793742484318045),\n",
    "        (\"ZZ\"+padding_str, -0.01128010425623538),\n",
    "        (\"XX\"+padding_str, 0.18093119978423156),\n",
    "    ]\n",
    ")"
   ]
  },
  {
   "cell_type": "code",
   "execution_count": null,
   "id": "a902103b-cb0f-4368-bdf9-a593c971db3b",
   "metadata": {},
   "outputs": [],
   "source": [
    "from qiskit_algorithms.optimizers import SPSA\n",
    "from qiskit.circuit.library import EfficientSU2\n",
    "from qiskit.primitives import Estimator\n",
    "import numpy as np\n",
    "\n",
    "estimator = Estimator()\n",
    "ansatz = EfficientSU2(2)\n",
    "ansatz.decompose().draw('mpl')"
   ]
  },
  {
   "cell_type": "markdown",
   "id": "10203c08-c33f-4ffc-906a-6d7e7096b62d",
   "metadata": {},
   "source": [
    "### Transpile the circuit according to Backend Topology"
   ]
  },
  {
   "cell_type": "code",
   "execution_count": null,
   "id": "f9cfd891-16b5-46aa-bc4a-56d20e158f58",
   "metadata": {},
   "outputs": [],
   "source": [
    "callback = lambda nfev, params, fval, step, acc: print(f'Evaluation {nfev}: {fval}')\n",
    "optimizer = SPSA(callback=callback, maxiter=1000)"
   ]
  },
  {
   "cell_type": "code",
   "execution_count": null,
   "id": "a8c0276e-6eba-484e-a39e-16e2f82145ea",
   "metadata": {},
   "outputs": [],
   "source": [
    "cost_func = lambda params: estimator.run(ansatz, H2_op, parameter_values=params).result().values[0]\n",
    "result = optimizer.minimize(cost_func, x0=np.zeros(ansatz.num_parameters))"
   ]
  },
  {
   "cell_type": "code",
   "execution_count": null,
   "id": "0c269e4a-036f-4694-945a-9e86a2282653",
   "metadata": {},
   "outputs": [],
   "source": [
    "print(result)"
   ]
  },
  {
   "cell_type": "markdown",
   "id": "808ee8e9-8da0-4e3c-a4d6-74dae9348ea6",
   "metadata": {},
   "source": [
    "# Run VQE Circuit in backend"
   ]
  },
  {
   "cell_type": "code",
   "execution_count": null,
   "id": "df0109ed-2b04-441b-8c3a-2dadb783287e",
   "metadata": {},
   "outputs": [],
   "source": [
    "padding_str = (backend.configuration().n_qubits-H2_op.num_qubits) * 'I'\n",
    "len(padding_str)"
   ]
  },
  {
   "cell_type": "code",
   "execution_count": null,
   "id": "1c4cbb9a-0f87-412d-a819-215d13aaa9cf",
   "metadata": {},
   "outputs": [],
   "source": [
    "from qiskit.quantum_info import SparsePauliOp\n",
    "\n",
    "H2_op = SparsePauliOp.from_list(\n",
    "    [\n",
    "        (\"II\"+padding_str, -1.052373245772859),\n",
    "        (\"IZ\"+padding_str, 0.39793742484318045),\n",
    "        (\"ZI\"+padding_str, -0.39793742484318045),\n",
    "        (\"ZZ\"+padding_str, -0.01128010425623538),\n",
    "        (\"XX\"+padding_str, 0.18093119978423156),\n",
    "    ]\n",
    ")"
   ]
  },
  {
   "cell_type": "code",
   "execution_count": null,
   "id": "253a51d5-bb45-4ade-87b0-77b37056f502",
   "metadata": {},
   "outputs": [],
   "source": [
    "H2_op.num_qubits"
   ]
  },
  {
   "cell_type": "code",
   "execution_count": null,
   "id": "5379c953-e12b-4bee-85d1-422f3970cf49",
   "metadata": {},
   "outputs": [],
   "source": [
    "from qiskit_algorithms.optimizers import SPSA\n",
    "from qiskit.circuit.library import EfficientSU2\n",
    "from qiskit.primitives import Estimator\n",
    "import numpy as np\n",
    "\n",
    "estimator = Estimator()\n",
    "ansatz = EfficientSU2(2)"
   ]
  },
  {
   "cell_type": "markdown",
   "id": "756ab108-4fc7-445f-a558-37cb59d36a3c",
   "metadata": {},
   "source": [
    "# Transpile the circuit"
   ]
  },
  {
   "cell_type": "code",
   "execution_count": null,
   "id": "1dcbe091-215e-44e4-8019-d3d3cac0b830",
   "metadata": {},
   "outputs": [],
   "source": [
    "from qiskit import transpile\n",
    "# ansatz.decompose().draw('mpl')\n",
    "transpiled = transpile(ansatz.decompose(), backend=backend)\n",
    "transpiled.draw('mpl')"
   ]
  },
  {
   "cell_type": "code",
   "execution_count": null,
   "id": "db7c2aaf-14b8-46ac-b404-97e7ecd10632",
   "metadata": {},
   "outputs": [],
   "source": [
    "from qiskit_ibm_runtime import Options\n",
    "\n",
    "options = Options()\n",
    "options.execution.init_qubits = True\n",
    "options.execution.shots = 5000"
   ]
  },
  {
   "cell_type": "code",
   "execution_count": null,
   "id": "49865069-300f-4b3e-93df-c599e6236763",
   "metadata": {},
   "outputs": [],
   "source": [
    "options.environment.callback = []\n",
    "options.environment.job_tabs = []\n",
    "options.environment.log_level = 'DEBUG'"
   ]
  },
  {
   "cell_type": "code",
   "execution_count": null,
   "id": "987cd44d-370f-4e96-9647-3d689556ebb1",
   "metadata": {},
   "outputs": [],
   "source": [
    "from qiskit_ibm_runtime import Estimator, Session\n",
    "\n",
    "with Session(service=service, backend=backend) as session:\n",
    "    estimator = Estimator(options=options)\n",
    "    cost_func = lambda params: estimator.run(transpiled, H2_op, parameter_values=params).result().values[0]\n",
    "    result = optimizer.minimize(cost_func, x0=np.zeros(ansatz.num_parameters))"
   ]
  },
  {
   "cell_type": "code",
   "execution_count": null,
   "id": "14a53499-a73c-47b2-95e7-3a354f46b11d",
   "metadata": {},
   "outputs": [],
   "source": [
    "print(result)"
   ]
  }
 ],
 "metadata": {
  "kernelspec": {
   "display_name": "Python 3 (ipykernel)",
   "language": "python",
   "name": "python3"
  },
  "language_info": {
   "codemirror_mode": {
    "name": "ipython",
    "version": 3
   },
   "file_extension": ".py",
   "mimetype": "text/x-python",
   "name": "python",
   "nbconvert_exporter": "python",
   "pygments_lexer": "ipython3",
   "version": "3.12.2"
  }
 },
 "nbformat": 4,
 "nbformat_minor": 5
}
